{
 "cells": [
  {
   "cell_type": "markdown",
   "id": "49801264",
   "metadata": {},
   "source": [
    "# 1.) Write a Python program to check that a string contains only a certain set of characters (in this case a-z, A-Z and 0-9)."
   ]
  },
  {
   "cell_type": "code",
   "execution_count": 1,
   "id": "e8219e93",
   "metadata": {},
   "outputs": [],
   "source": [
    "import re"
   ]
  },
  {
   "cell_type": "code",
   "execution_count": 2,
   "id": "f4f25106",
   "metadata": {},
   "outputs": [
    {
     "name": "stdout",
     "output_type": "stream",
     "text": [
      "The string contains only the specified characters.\n",
      "The string contains characters outside the specified set.\n"
     ]
    }
   ],
   "source": [
    "def check_string_characters(string):\n",
    "    pattern = r'^[a-zA-Z0-9]+$'\n",
    "    match = re.match(pattern, string)\n",
    "    if match:\n",
    "        print(\"The string contains only the specified characters.\")\n",
    "    else:\n",
    "        print(\"The string contains characters outside the specified set.\")\n",
    "\n",
    "check_string_characters('Athira')\n",
    "check_string_characters('Athira_1')\n",
    "\n"
   ]
  },
  {
   "cell_type": "markdown",
   "id": "eae52c96",
   "metadata": {},
   "source": [
    "# 2.) Create a function in python that matches a string that has an a followed by zero or more b's"
   ]
  },
  {
   "cell_type": "code",
   "execution_count": 3,
   "id": "eaf47ba3",
   "metadata": {},
   "outputs": [
    {
     "name": "stdout",
     "output_type": "stream",
     "text": [
      "The string matches the pattern.\n",
      "The string matches the pattern.\n",
      "The string does not match the pattern.\n"
     ]
    }
   ],
   "source": [
    "def match_string(string):\n",
    "    pattern = r'ab*$'\n",
    "    match = re.match(pattern, string)\n",
    "    if match:\n",
    "        print(\"The string matches the pattern.\")\n",
    "    else:\n",
    "        print(\"The string does not match the pattern.\")\n",
    "\n",
    "match_string('abb')\n",
    "match_string('ab')\n",
    "match_string('d')"
   ]
  },
  {
   "cell_type": "markdown",
   "id": "8162e846",
   "metadata": {},
   "source": [
    "# 3.) Create a function in python that matches a string that has an a followed by one or more b's"
   ]
  },
  {
   "cell_type": "code",
   "execution_count": 4,
   "id": "1f39b4bf",
   "metadata": {},
   "outputs": [
    {
     "name": "stdout",
     "output_type": "stream",
     "text": [
      "The string matches the pattern.\n",
      "The string matches the pattern.\n",
      "The string does not match the pattern.\n"
     ]
    }
   ],
   "source": [
    "def match_string(string):\n",
    "    pattern = r'ab+$'\n",
    "    match = re.match(pattern, string)\n",
    "    if match:\n",
    "        print(\"The string matches the pattern.\")\n",
    "    else:\n",
    "        print(\"The string does not match the pattern.\")\n",
    "\n",
    "match_string('abb')\n",
    "match_string('ab')\n",
    "match_string('a')"
   ]
  },
  {
   "cell_type": "markdown",
   "id": "c88b363f",
   "metadata": {},
   "source": [
    "# 4.) Create a function in Python and use RegEx that matches a string that has an a followed by zero or one 'b'."
   ]
  },
  {
   "cell_type": "code",
   "execution_count": 5,
   "id": "13cf6a22",
   "metadata": {},
   "outputs": [
    {
     "name": "stdout",
     "output_type": "stream",
     "text": [
      "The string does not match the pattern.\n",
      "The string matches the pattern.\n",
      "The string matches the pattern.\n"
     ]
    }
   ],
   "source": [
    "def match_string(string):\n",
    "    pattern = r'ab?$'\n",
    "    match = re.match(pattern, string)\n",
    "    if match:\n",
    "        print(\"The string matches the pattern.\")\n",
    "    else:\n",
    "        print(\"The string does not match the pattern.\")\n",
    "\n",
    "match_string('abb')\n",
    "match_string('ab')\n",
    "match_string('a')"
   ]
  },
  {
   "cell_type": "markdown",
   "id": "4a990718",
   "metadata": {},
   "source": [
    "# 5.) Write a Python program that matches a string that has an a followed by three 'b'."
   ]
  },
  {
   "cell_type": "code",
   "execution_count": 6,
   "id": "de76cc01",
   "metadata": {},
   "outputs": [
    {
     "name": "stdout",
     "output_type": "stream",
     "text": [
      "The string matches the pattern.\n",
      "The string does not match the pattern.\n",
      "The string does not match the pattern.\n"
     ]
    }
   ],
   "source": [
    "def match_string(string):\n",
    "    pattern = r'ab{3}$'\n",
    "    match = re.match(pattern, string)\n",
    "    if match:\n",
    "        print(\"The string matches the pattern.\")\n",
    "    else:\n",
    "        print(\"The string does not match the pattern.\")\n",
    "\n",
    "match_string('abbb')\n",
    "match_string('ab')\n",
    "match_string('a')"
   ]
  },
  {
   "cell_type": "markdown",
   "id": "2178e41d",
   "metadata": {},
   "source": [
    "# 6.) Write a regular expression in Python to split a string into uppercase letters.\n",
    "### Sample text: “ImportanceOfRegularExpressionsInPython”\n",
    "### Output: [‘Importance’, ‘Of’, ‘Regular’, ‘Expression’, ‘In’, ‘Python’]"
   ]
  },
  {
   "cell_type": "code",
   "execution_count": 7,
   "id": "c2e43250",
   "metadata": {},
   "outputs": [
    {
     "name": "stdout",
     "output_type": "stream",
     "text": [
      "['Importance', 'Of', 'Regular', 'Expressions', 'In', 'Python']\n"
     ]
    }
   ],
   "source": [
    "text = \"ImportanceOfRegularExpressionsInPython\"\n",
    "result = [x for x in re.split(r'(?=[A-Z])', text) if x]\n",
    "print(result)\n",
    "\n"
   ]
  },
  {
   "cell_type": "markdown",
   "id": "74767bdb",
   "metadata": {},
   "source": [
    "# 7.) Write a Python program that matches a string that has an a followed by two to three 'b'."
   ]
  },
  {
   "cell_type": "code",
   "execution_count": 8,
   "id": "4a6fded8",
   "metadata": {},
   "outputs": [
    {
     "name": "stdout",
     "output_type": "stream",
     "text": [
      "The string matches the pattern.\n",
      "The string matches the pattern.\n",
      "The string does not match the pattern.\n"
     ]
    }
   ],
   "source": [
    "def match_string(string):\n",
    "    pattern = r'ab{2}$|ab{3}$'\n",
    "    match = re.match(pattern, string)\n",
    "    if match:\n",
    "        print(\"The string matches the pattern.\")\n",
    "    else:\n",
    "        print(\"The string does not match the pattern.\")\n",
    "\n",
    "match_string('abbb')\n",
    "match_string('abb')\n",
    "match_string('a')"
   ]
  },
  {
   "cell_type": "markdown",
   "id": "d1ec3153",
   "metadata": {},
   "source": [
    "# 8.) Write a Python program to find sequences of lowercase letters joined with a underscore."
   ]
  },
  {
   "cell_type": "code",
   "execution_count": 9,
   "id": "87a51980",
   "metadata": {},
   "outputs": [
    {
     "name": "stdout",
     "output_type": "stream",
     "text": [
      "['his_is', 'sample_text', 'with_lowercase', 'this_one']\n"
     ]
    }
   ],
   "source": [
    "def find_lowercase_sequences(text):\n",
    "    pattern = r'[a-z]+_[a-z]+\\w'\n",
    "    matches = re.findall(pattern, text)\n",
    "    return matches\n",
    "\n",
    "text = \"This_is a sample_text with_lowercase like this_one\"\n",
    "sequences = find_lowercase_sequences(text)\n",
    "print(sequences)"
   ]
  },
  {
   "cell_type": "markdown",
   "id": "7ee15722",
   "metadata": {},
   "source": [
    "# 9.) Write a Python program that matches a string that has an 'a' followed by anything, ending in 'b'."
   ]
  },
  {
   "cell_type": "code",
   "execution_count": 10,
   "id": "c7659b61",
   "metadata": {},
   "outputs": [
    {
     "name": "stdout",
     "output_type": "stream",
     "text": [
      "The string matches the pattern.\n",
      "The string does not match the pattern.\n",
      "The string matches the pattern.\n"
     ]
    }
   ],
   "source": [
    "def match_string(string):\n",
    "    pattern = r'a.*b$'\n",
    "    match = re.match(pattern, string)\n",
    "    if match:\n",
    "        print(\"The string matches the pattern.\")\n",
    "    else:\n",
    "        print(\"The string does not match the pattern.\")\n",
    "\n",
    "match_string('abb')\n",
    "match_string('aba')\n",
    "match_string('athirab')"
   ]
  },
  {
   "cell_type": "markdown",
   "id": "ede9fe55",
   "metadata": {},
   "source": [
    "# 10.) Write a Python program that matches a word at the beginning of a string."
   ]
  },
  {
   "cell_type": "code",
   "execution_count": 11,
   "id": "77903ea1",
   "metadata": {},
   "outputs": [
    {
     "name": "stdout",
     "output_type": "stream",
     "text": [
      "The word 'language' does not match at the beginning of the string.\n",
      "The word 'Python' matches at the beginning of the string.\n"
     ]
    }
   ],
   "source": [
    "def match_word_at_beginning(string, word):\n",
    "    pattern = r'^\\b' + word\n",
    "    match = re.search(pattern, string)\n",
    "    if match:\n",
    "        print(\"The word '{}' matches at the beginning of the string.\".format(word))\n",
    "    else:\n",
    "        print(\"The word '{}' does not match at the beginning of the string.\".format(word))\n",
    "\n",
    "\n",
    "match_word_at_beginning(\"Python is a powerful programming language Python .\", \"language\")\n",
    "match_word_at_beginning(\"Python is a powerful programming language Python .\", \"Python\")"
   ]
  },
  {
   "cell_type": "markdown",
   "id": "010d22df",
   "metadata": {},
   "source": [
    "# 11.) Write a Python program to match a string that contains only upper and lowercase letters, numbers, and underscores."
   ]
  },
  {
   "cell_type": "code",
   "execution_count": 12,
   "id": "fd2ccb4b",
   "metadata": {},
   "outputs": [
    {
     "name": "stdout",
     "output_type": "stream",
     "text": [
      "The string contains only the specified characters.\n",
      "The string contains only the specified characters.\n",
      "The string contains characters outside the specified set.\n"
     ]
    }
   ],
   "source": [
    "def check_string_characters(string):\n",
    "    pattern = r'^[a-zA-Z0-9_]+$'\n",
    "    match = re.match(pattern, string)\n",
    "    if match:\n",
    "        print(\"The string contains only the specified characters.\")\n",
    "    else:\n",
    "        print(\"The string contains characters outside the specified set.\")\n",
    "\n",
    "check_string_characters('Athira')\n",
    "check_string_characters('Athira_1')\n",
    "check_string_characters('Athira-1')"
   ]
  },
  {
   "cell_type": "markdown",
   "id": "c4e9df1b",
   "metadata": {},
   "source": [
    "# 12.) Write a Python program where a string will start with a specific number. "
   ]
  },
  {
   "cell_type": "code",
   "execution_count": 13,
   "id": "eaf7edce",
   "metadata": {},
   "outputs": [
    {
     "name": "stdout",
     "output_type": "stream",
     "text": [
      "The number '1' does not match at the beginning of the string.\n",
      "The number '1' matches at the beginning of the string.\n"
     ]
    }
   ],
   "source": [
    "def match_word_at_beginning(string, number):\n",
    "    pattern = r'^\\b' + number\n",
    "    match = re.search(pattern, string)\n",
    "    if match:\n",
    "        print(\"The number '{}' matches at the beginning of the string.\".format(number))\n",
    "    else:\n",
    "        print(\"The number '{}' does not match at the beginning of the string.\".format(number))\n",
    "\n",
    "\n",
    "match_word_at_beginning(\"Python is a number 1 powerful programming language Python .\", \"1\")\n",
    "match_word_at_beginning(\"1. Python is a powerful programming language Python .\", \"1\")"
   ]
  },
  {
   "cell_type": "markdown",
   "id": "05c87c25",
   "metadata": {},
   "source": [
    "# 13.) Write a Python program to remove leading zeros from an IP address"
   ]
  },
  {
   "cell_type": "code",
   "execution_count": 14,
   "id": "13a0681b",
   "metadata": {},
   "outputs": [
    {
     "name": "stdout",
     "output_type": "stream",
     "text": [
      "192.168.1.2\n"
     ]
    }
   ],
   "source": [
    "def remove_leading_zeros(ip_address):\n",
    "    pattern = r'\\b0+(\\d)'\n",
    "    cleaned_ip_address = re.sub(pattern, r'\\1', ip_address)\n",
    "    return cleaned_ip_address\n",
    "\n",
    "ip_address = \"192.168.001.002\"\n",
    "cleaned_ip = remove_leading_zeros(ip_address)\n",
    "print(cleaned_ip)"
   ]
  },
  {
   "cell_type": "markdown",
   "id": "9ecbcfee",
   "metadata": {},
   "source": [
    "# 14.) Write a regular expression in python to match a date string in the form of Month name followed by day number and year stored in a text file.\n",
    "### Sample text : ' On August 15th 1947 that India was declared independent from British colonialism, and the reins of control were handed over to the leaders of the Country’.\n",
    "### Output- August 15th 1947\n",
    "### Hint- Use re.match() method here"
   ]
  },
  {
   "cell_type": "code",
   "execution_count": 15,
   "id": "1c9a4336",
   "metadata": {},
   "outputs": [
    {
     "name": "stdout",
     "output_type": "stream",
     "text": [
      "['August 15th 1947']\n"
     ]
    }
   ],
   "source": [
    "def match_date_string(filename):\n",
    "    pattern = r\"(?:January|February|March|April|May|June|July|August|September|October|November|December)\\s+\\d{1,2}(?:st|nd|rd|th)?\\s+\\d{4}\"\n",
    "    matched_dates = []\n",
    "    with open(filename, 'r') as file:\n",
    "        for line in file:\n",
    "            match = re.search(pattern, text)\n",
    "        if match:\n",
    "            matched_dates.append(match.group())\n",
    "    return matched_dates\n",
    "\n",
    "text = \"On August 15th 1947 that India was declared independent from British colonialism, and the reins of control were handed over to the leaders of the Country.\"\n",
    "matched_date = match_date_string(\"data_1.txt\")\n",
    "print(matched_date)"
   ]
  },
  {
   "cell_type": "markdown",
   "id": "6fc7d2fd",
   "metadata": {},
   "source": [
    "# 15.) Write a Python program to search some literals strings in a string. Go to the editor \n",
    "### Sample text : 'The quick brown fox jumps over the lazy dog.'\n",
    "### Searched words : 'fox', 'dog', 'horse'"
   ]
  },
  {
   "cell_type": "code",
   "execution_count": 16,
   "id": "81a352d7",
   "metadata": {},
   "outputs": [
    {
     "name": "stdout",
     "output_type": "stream",
     "text": [
      "['fox', 'dog']\n"
     ]
    }
   ],
   "source": [
    "def search_literals(text, words):\n",
    "    found_words = []\n",
    "    for word in words:\n",
    "        if word in text:\n",
    "            found_words.append(word)\n",
    "    return found_words\n",
    "\n",
    "text = 'The quick brown fox jumps over the lazy dog.'\n",
    "search_words = ['fox', 'dog', 'horse']\n",
    "found_words = search_literals(text, search_words)\n",
    "print(found_words)"
   ]
  },
  {
   "cell_type": "markdown",
   "id": "1ee19b92",
   "metadata": {},
   "source": [
    "# 16.) Write a Python program to search a literals string in a string and also find the location within the original string where the pattern occurs\n",
    "### Sample text : 'The quick brown fox jumps over the lazy dog.'\n",
    "### Searched words : 'fox'"
   ]
  },
  {
   "cell_type": "code",
   "execution_count": 17,
   "id": "23136f64",
   "metadata": {},
   "outputs": [
    {
     "name": "stdout",
     "output_type": "stream",
     "text": [
      "[16]\n"
     ]
    }
   ],
   "source": [
    "def search_literal_with_location(text, pattern):\n",
    "    found_locations = []\n",
    "    start = 0\n",
    "    while True:\n",
    "        index = text.find(pattern, start)\n",
    "        if index == -1:\n",
    "            break\n",
    "        found_locations.append(index)\n",
    "        start = index + 1\n",
    "    return found_locations\n",
    "\n",
    "text = 'The quick brown fox jumps over the lazy dog.'\n",
    "search_word = 'fox'\n",
    "found_locations = search_literal_with_location(text, search_word)\n",
    "print(found_locations)"
   ]
  },
  {
   "cell_type": "markdown",
   "id": "e964037a",
   "metadata": {},
   "source": [
    "# 17.) Write a Python program to find the substrings within a string.\n",
    "### Sample text : 'Python exercises, PHP exercises, C# exercises'\n",
    "### Pattern : 'exercises'."
   ]
  },
  {
   "cell_type": "code",
   "execution_count": 18,
   "id": "53485ac1",
   "metadata": {},
   "outputs": [
    {
     "name": "stdout",
     "output_type": "stream",
     "text": [
      "['exercises', 'exercises']\n"
     ]
    }
   ],
   "source": [
    "def find_substrings(text, pattern):\n",
    "    substrings = re.findall(pattern, text)\n",
    "    return substrings\n",
    "\n",
    "text = 'Python exercises, PHP exercises, C# exercise'\n",
    "pattern = 'exercises'\n",
    "found_substrings = find_substrings(text, pattern)\n",
    "print(found_substrings)"
   ]
  },
  {
   "cell_type": "markdown",
   "id": "2308aa9b",
   "metadata": {},
   "source": [
    "# 18.) Write a Python program to find the occurrence and position of the substrings within a string."
   ]
  },
  {
   "cell_type": "code",
   "execution_count": 19,
   "id": "1271e929",
   "metadata": {},
   "outputs": [
    {
     "name": "stdout",
     "output_type": "stream",
     "text": [
      "Substring: exercises, Position: 7\n",
      "Substring: exercises, Position: 22\n",
      "Substring: exercises, Position: 36\n"
     ]
    }
   ],
   "source": [
    "def find_substring_occurrences(text, pattern):\n",
    "    occurrences = []\n",
    "    start = 0\n",
    "    while True:\n",
    "        index = text.find(pattern, start)\n",
    "        if index == -1:\n",
    "            break\n",
    "        occurrences.append((pattern, index))\n",
    "        start = index + 1\n",
    "    return occurrences\n",
    "\n",
    "text = 'Python exercises, PHP exercises, C# exercises'\n",
    "pattern = 'exercises'\n",
    "substring_occurrences = find_substring_occurrences(text, pattern)\n",
    "\n",
    "for substring, position in substring_occurrences:\n",
    "    print(\"Substring: {}, Position: {}\".format(substring, position))"
   ]
  },
  {
   "cell_type": "markdown",
   "id": "4e565e8f",
   "metadata": {},
   "source": [
    "# 19.) Write a Python program to convert a date of yyyy-mm-dd format to dd-mm-yyyy format."
   ]
  },
  {
   "cell_type": "code",
   "execution_count": 20,
   "id": "15d3b645",
   "metadata": {},
   "outputs": [
    {
     "name": "stdout",
     "output_type": "stream",
     "text": [
      "31-07-2022\n"
     ]
    }
   ],
   "source": [
    "def convert_date_format(date):\n",
    "    parts = date.split('-')\n",
    "    converted_date = parts[2] + '-' + parts[1] + '-' + parts[0]\n",
    "    return converted_date\n",
    "\n",
    "date = '2022-07-31'\n",
    "converted_date = convert_date_format(date)\n",
    "print(converted_date)"
   ]
  },
  {
   "cell_type": "markdown",
   "id": "a0f0e67f",
   "metadata": {},
   "source": [
    "# 20.) Write a Python program to find all words starting with 'a' or 'e' in a given string."
   ]
  },
  {
   "cell_type": "code",
   "execution_count": 21,
   "id": "7155428b",
   "metadata": {},
   "outputs": [
    {
     "name": "stdout",
     "output_type": "stream",
     "text": [
      "['apple', 'a', 'away', 'eggs', 'a']\n"
     ]
    }
   ],
   "source": [
    "def find_words_starting_with_a_or_e(text):\n",
    "    pattern = r'\\b[ae]\\w*'\n",
    "    words = re.findall(pattern, text)\n",
    "    return words\n",
    "\n",
    "text = \"An apple a day keeps the doctor away. Eating eggs is a good source of protein.\"\n",
    "matched_words = find_words_starting_with_a_or_e(text)\n",
    "print(matched_words)"
   ]
  },
  {
   "cell_type": "markdown",
   "id": "6168d8ab",
   "metadata": {},
   "source": [
    "# 21.) Write a Python program to separate and print the numbers and their position of a given string."
   ]
  },
  {
   "cell_type": "code",
   "execution_count": 22,
   "id": "07b42d98",
   "metadata": {},
   "outputs": [
    {
     "name": "stdout",
     "output_type": "stream",
     "text": [
      "Number: 10, Position: 7\n",
      "Number: 5, Position: 21\n"
     ]
    }
   ],
   "source": [
    "def separate_numbers_and_positions(text):\n",
    "    pattern = r'\\d+'\n",
    "    numbers = re.findall(pattern, text)\n",
    "    positions = [match.start() for match in re.finditer(pattern, text)]\n",
    "\n",
    "    for number, position in zip(numbers, positions):\n",
    "        print(\"Number: {}, Position: {}\".format(number, position))\n",
    "\n",
    "text = \"I have 10 apples and 5 oranges.\"\n",
    "separate_numbers_and_positions(text)"
   ]
  },
  {
   "cell_type": "markdown",
   "id": "ebc7615a",
   "metadata": {},
   "source": [
    "# 22.) Write a regular expression in python program to extract maximum numeric value from a string"
   ]
  },
  {
   "cell_type": "code",
   "execution_count": 23,
   "id": "6f83d1f5",
   "metadata": {},
   "outputs": [
    {
     "name": "stdout",
     "output_type": "stream",
     "text": [
      "1001\n"
     ]
    }
   ],
   "source": [
    "def extract_maximum_numeric_value(string):\n",
    "    pattern = r'\\b\\d+\\b'\n",
    "    numbers = re.findall(pattern, string)\n",
    "    if numbers:\n",
    "        maximum_value = max(map(int, numbers))\n",
    "        return maximum_value\n",
    "    else:\n",
    "        return None\n",
    "\n",
    "# Example usage\n",
    "string = \"The maximum value is 1001, but there are also 500 and 750.\"\n",
    "max_value = extract_maximum_numeric_value(string)\n",
    "print(max_value)"
   ]
  },
  {
   "cell_type": "markdown",
   "id": "77420c49",
   "metadata": {},
   "source": [
    "# 23.) Write a Regex in Python to put spaces between words starting with capital letters"
   ]
  },
  {
   "cell_type": "code",
   "execution_count": 24,
   "id": "055500dc",
   "metadata": {},
   "outputs": [
    {
     "name": "stdout",
     "output_type": "stream",
     "text": [
      "This Is A Regular Expressions Example\n"
     ]
    }
   ],
   "source": [
    "def add_spaces_between_capital_words(text):\n",
    "    pattern = r'(?<!^)(?=[A-Z])'\n",
    "    modified_text = re.sub(pattern, ' ', text)\n",
    "    return modified_text\n",
    "\n",
    "text = \"ThisIsARegularExpressionsExample\"\n",
    "modified_text = add_spaces_between_capital_words(text)\n",
    "print(modified_text)"
   ]
  },
  {
   "cell_type": "markdown",
   "id": "d96124da",
   "metadata": {},
   "source": [
    "# 24.) Python regex to find sequences of one upper case letter followed by lower case letters."
   ]
  },
  {
   "cell_type": "code",
   "execution_count": 25,
   "id": "0ee18fd7",
   "metadata": {},
   "outputs": [
    {
     "name": "stdout",
     "output_type": "stream",
     "text": [
      "['The', 'Quick', 'Fox', 'Lazy', 'Dog']\n"
     ]
    }
   ],
   "source": [
    "def find_sequences(text):\n",
    "    pattern = r'[A-Z][a-z]+'\n",
    "    sequences = re.findall(pattern, text)\n",
    "    return sequences\n",
    "\n",
    "text = \"The Quick brown Fox jumps over the Lazy Dog.\"\n",
    "found_sequences = find_sequences(text)\n",
    "print(found_sequences)"
   ]
  },
  {
   "cell_type": "markdown",
   "id": "c6ee420d",
   "metadata": {},
   "source": [
    "# 25.) Write a Python program to remove duplicate words from Sentence using Regular Expression"
   ]
  },
  {
   "cell_type": "code",
   "execution_count": 26,
   "id": "c814ef23",
   "metadata": {},
   "outputs": [
    {
     "name": "stdout",
     "output_type": "stream",
     "text": [
      "My  name is  Athira.\n"
     ]
    }
   ],
   "source": [
    "def remove_duplicate_words(sentence):\n",
    "    pattern = r'\\b(\\w+)\\b(?=.*\\b\\1\\b)'\n",
    "    modified_sentence = re.sub(pattern, '', sentence)\n",
    "    return modified_sentence.strip()\n",
    "\n",
    "sentence = \"My name name is Athira Athira.\"\n",
    "modified_sentence = remove_duplicate_words(sentence)\n",
    "print(modified_sentence)"
   ]
  },
  {
   "cell_type": "markdown",
   "id": "004256d4",
   "metadata": {},
   "source": [
    "# 26.) Write a python program using RegEx to accept string ending with alphanumeric character."
   ]
  },
  {
   "cell_type": "code",
   "execution_count": 27,
   "id": "39bfca09",
   "metadata": {},
   "outputs": [
    {
     "name": "stdout",
     "output_type": "stream",
     "text": [
      "Hello123: Accepted\n",
      "Python#: Rejected\n",
      "12345: Accepted\n",
      "abc@123: Accepted\n"
     ]
    }
   ],
   "source": [
    "def check_string_ending_alphanumeric(string):\n",
    "    pattern = r\".*[a-zA-Z0-9]$\"\n",
    "    match = re.match(pattern, string)\n",
    "    if match:\n",
    "        return True\n",
    "    else:\n",
    "        return False\n",
    "\n",
    "strings = [\"Hello123\", \"Python#\", \"12345\", \"abc@123\"]\n",
    "for string in strings:\n",
    "    if check_string_ending_alphanumeric(string):\n",
    "        print(f\"{string}: Accepted\")\n",
    "    else:\n",
    "        print(f\"{string}: Rejected\")"
   ]
  },
  {
   "cell_type": "markdown",
   "id": "9d0e2f17",
   "metadata": {},
   "source": [
    "# 27.) Write a python program using RegEx to extract the hashtags.\n",
    "### Sample Text: text = \"\"\"RT @kapil_kausik: #Doltiwal I mean #xyzabc is \"hurt\" by #Demonetization as the same has rendered USELESS <ed><U+00A0><U+00BD><ed><U+00B1><U+0089> \"acquired funds\" No wo\"\"\"\n",
    "### Output: ['#Doltiwal', '#xyzabc', '#Demonetization']"
   ]
  },
  {
   "cell_type": "code",
   "execution_count": 28,
   "id": "fd31ec7c",
   "metadata": {},
   "outputs": [
    {
     "name": "stdout",
     "output_type": "stream",
     "text": [
      "['#Doltiwal', '#xyzabc', '#Demonetization']\n"
     ]
    }
   ],
   "source": [
    "def extract_hashtags(text):\n",
    "    pattern = r'#[^\\s#]+'\n",
    "    hashtags = re.findall(pattern, text)\n",
    "    return hashtags\n",
    "\n",
    "text = \"\"\"RT @kapil_kausik: #Doltiwal I mean #xyzabc is \"hurt\" by #Demonetization as the\n",
    "same has rendered USELESS <ed><U+00A0><U+00BD><ed><U+00B1><U+0089> \"acquired funds\" No\n",
    "wo\"\"\"\n",
    "hashtags = extract_hashtags(text)\n",
    "print(hashtags)"
   ]
  },
  {
   "cell_type": "markdown",
   "id": "490db6d2",
   "metadata": {},
   "source": [
    "# 28.) Write a python program using RegEx to remove <U+..> like symbols\n",
    "### Check the below sample text, there are strange symbols something of the sort <U+..> all over the place. You need to come up with a general Regex expression that will cover all such symbols.\n",
    "### Sample Text: \"@Jags123456 Bharat band on 28??\n",
    "### <ed><U+00A0><U+00BD><ed><U+00B8><U+0082> Those who  are protesting #demonetization  are all different party leaders\"\n",
    "### Output: @Jags123456 Bharat band on 28??<ed><ed>Those who  are protesting #demonetization  are all different party leaders"
   ]
  },
  {
   "cell_type": "code",
   "execution_count": 29,
   "id": "08188144",
   "metadata": {},
   "outputs": [
    {
     "name": "stdout",
     "output_type": "stream",
     "text": [
      "@Jags123456 Bharat band on 28??<ed><ed>Those who are protesting #demonetization are all different party leaders\n"
     ]
    }
   ],
   "source": [
    "def remove_special_symbols(text):\n",
    "    pattern = r'<U\\+[A-Za-z0-9]+>'\n",
    "    modified_text = re.sub(pattern, '', text)\n",
    "    return modified_text\n",
    "\n",
    "text = \"@Jags123456 Bharat band on 28??<ed><U+00A0><U+00BD><ed><U+00B8><U+0082>Those who are protesting #demonetization are all different party leaders\"\n",
    "modified_text = remove_special_symbols(text)\n",
    "print(modified_text)"
   ]
  },
  {
   "cell_type": "markdown",
   "id": "77b4a425",
   "metadata": {},
   "source": [
    "# 29.) Write a python program to extract dates from the text stored in the text file.\n",
    "### Sample Text: Ron was born on 12-09-1992 and he was admitted to school 15-12-1999.\n",
    "### Store this sample text in the file and then extract dates."
   ]
  },
  {
   "cell_type": "code",
   "execution_count": 30,
   "id": "92ba0cb2",
   "metadata": {},
   "outputs": [
    {
     "name": "stdout",
     "output_type": "stream",
     "text": [
      "['12-09-1992', '15-12-1999']\n"
     ]
    }
   ],
   "source": [
    "def extract_dates_from_file(filename):\n",
    "    dates = []\n",
    "    with open(filename, 'r') as file:\n",
    "        text = file.read()\n",
    "        pattern = r'\\d{2}-\\d{2}-\\d{4}'\n",
    "        dates = re.findall(pattern, text)\n",
    "    return dates\n",
    "\n",
    "filename = \"data_2.txt\"\n",
    "extracted_dates = extract_dates_from_file(filename)\n",
    "print(extracted_dates)"
   ]
  },
  {
   "cell_type": "markdown",
   "id": "02af429c",
   "metadata": {},
   "source": [
    "# 30.) Write a Python program to replace all occurrences of a space, comma, or dot with a colon.\n",
    "### Sample Text- 'Python Exercises, PHP exercises.'\n",
    "### Output: Python:Exercises::PHP:exercises:"
   ]
  },
  {
   "cell_type": "code",
   "execution_count": 31,
   "id": "332ef67e",
   "metadata": {},
   "outputs": [
    {
     "name": "stdout",
     "output_type": "stream",
     "text": [
      "Python:Exercises::PHP:exercises:\n"
     ]
    }
   ],
   "source": [
    "def replace_space_comma_dot_with_colon(text):\n",
    "    replaced_text = text.replace(' ', ':').replace(',', ':').replace('.', ':')\n",
    "    return replaced_text\n",
    "\n",
    "text = 'Python Exercises, PHP exercises.'\n",
    "modified_text = replace_space_comma_dot_with_colon(text)\n",
    "print(modified_text)"
   ]
  }
 ],
 "metadata": {
  "kernelspec": {
   "display_name": "Python 3 (ipykernel)",
   "language": "python",
   "name": "python3"
  },
  "language_info": {
   "codemirror_mode": {
    "name": "ipython",
    "version": 3
   },
   "file_extension": ".py",
   "mimetype": "text/x-python",
   "name": "python",
   "nbconvert_exporter": "python",
   "pygments_lexer": "ipython3",
   "version": "3.9.13"
  }
 },
 "nbformat": 4,
 "nbformat_minor": 5
}
